{
 "cells": [
  {
   "cell_type": "markdown",
   "metadata": {},
   "source": [
    "### **Instalando e importando as bibliotecas necessárias**"
   ]
  },
  {
   "cell_type": "code",
   "execution_count": 12,
   "metadata": {},
   "outputs": [
    {
     "name": "stdout",
     "output_type": "stream",
     "text": [
      "Requirement already satisfied: PyOpenGL in c:\\users\\kasat\\appdata\\local\\packages\\pythonsoftwarefoundation.python.3.11_qbz5n2kfra8p0\\localcache\\local-packages\\python311\\site-packages (3.1.9)\n",
      "Note: you may need to restart the kernel to use updated packages.\n"
     ]
    },
    {
     "name": "stderr",
     "output_type": "stream",
     "text": [
      "\n",
      "[notice] A new release of pip is available: 24.3.1 -> 25.0.1\n",
      "[notice] To update, run: C:\\Users\\kasat\\AppData\\Local\\Microsoft\\WindowsApps\\PythonSoftwareFoundation.Python.3.11_qbz5n2kfra8p0\\python.exe -m pip install --upgrade pip\n"
     ]
    },
    {
     "name": "stdout",
     "output_type": "stream",
     "text": [
      "Requirement already satisfied: glfw in c:\\users\\kasat\\appdata\\local\\packages\\pythonsoftwarefoundation.python.3.11_qbz5n2kfra8p0\\localcache\\local-packages\\python311\\site-packages (2.8.0)\n",
      "Note: you may need to restart the kernel to use updated packages.\n"
     ]
    },
    {
     "name": "stderr",
     "output_type": "stream",
     "text": [
      "\n",
      "[notice] A new release of pip is available: 24.3.1 -> 25.0.1\n",
      "[notice] To update, run: C:\\Users\\kasat\\AppData\\Local\\Microsoft\\WindowsApps\\PythonSoftwareFoundation.Python.3.11_qbz5n2kfra8p0\\python.exe -m pip install --upgrade pip\n"
     ]
    },
    {
     "name": "stdout",
     "output_type": "stream",
     "text": [
      "Requirement already satisfied: pyglm in c:\\users\\kasat\\appdata\\local\\packages\\pythonsoftwarefoundation.python.3.11_qbz5n2kfra8p0\\localcache\\local-packages\\python311\\site-packages (2.8.0)\n",
      "Note: you may need to restart the kernel to use updated packages.\n"
     ]
    },
    {
     "name": "stderr",
     "output_type": "stream",
     "text": [
      "\n",
      "[notice] A new release of pip is available: 24.3.1 -> 25.0.1\n",
      "[notice] To update, run: C:\\Users\\kasat\\AppData\\Local\\Microsoft\\WindowsApps\\PythonSoftwareFoundation.Python.3.11_qbz5n2kfra8p0\\python.exe -m pip install --upgrade pip\n"
     ]
    }
   ],
   "source": [
    "%pip install PyOpenGL\n",
    "%pip install glfw\n",
    "%pip install pyglm"
   ]
  },
  {
   "cell_type": "code",
   "execution_count": 1,
   "metadata": {},
   "outputs": [],
   "source": [
    "import glfw\n",
    "from OpenGL.GL import *\n",
    "import OpenGL.GL.shaders\n",
    "import numpy as np\n",
    "import glm"
   ]
  },
  {
   "cell_type": "markdown",
   "metadata": {},
   "source": [
    "### **Inicializando a janela**"
   ]
  },
  {
   "cell_type": "code",
   "execution_count": 2,
   "metadata": {},
   "outputs": [],
   "source": [
    "glfw.init()\n",
    "glfw.window_hint(glfw.VISIBLE, glfw.FALSE);\n",
    "window = glfw.create_window(720, 600, \"Avião em voo\", None, None)\n",
    "\n",
    "if (window == None):\n",
    "    print(\"Failed to create GLFW window\")\n",
    "    glfwTerminate()\n",
    "    \n",
    "glfw.make_context_current(window)"
   ]
  },
  {
   "cell_type": "markdown",
   "metadata": {},
   "source": [
    "### **Shaders**\n",
    "Defininindo os programas Vertex e Fragment Shaders e requisitando slot para a GPU para eles. Após isso, associamos nosso código-fonte aos slots associados."
   ]
  },
  {
   "cell_type": "code",
   "execution_count": 3,
   "metadata": {},
   "outputs": [],
   "source": [
    "vertex_code = \"\"\"\n",
    "        attribute vec2 position;\n",
    "        uniform mat4 mat_transformation;\n",
    "        void main(){\n",
    "            gl_Position = mat_transformation * vec4(position,0.0,1.0);\n",
    "        }\n",
    "        \"\"\"\n",
    "\n",
    "fragment_code = \"\"\"\n",
    "        uniform vec4 color;\n",
    "        void main(){\n",
    "            gl_FragColor = color;\n",
    "        }\n",
    "        \"\"\"\n",
    "\n",
    "program  = glCreateProgram()\n",
    "vertex   = glCreateShader(GL_VERTEX_SHADER)\n",
    "fragment = glCreateShader(GL_FRAGMENT_SHADER)\n",
    "\n",
    "glShaderSource(vertex, vertex_code)\n",
    "glShaderSource(fragment, fragment_code)"
   ]
  },
  {
   "cell_type": "markdown",
   "metadata": {},
   "source": [
    "Compilando nossos programas e associando ao programa principal"
   ]
  },
  {
   "cell_type": "code",
   "execution_count": 4,
   "metadata": {},
   "outputs": [],
   "source": [
    "glCompileShader(vertex)\n",
    "if not glGetShaderiv(vertex, GL_COMPILE_STATUS):\n",
    "    error = glGetShaderInfoLog(vertex).decode()\n",
    "    print(error)\n",
    "    raise RuntimeError(\"Erro de compilacao do Vertex Shader\")\n",
    "\n",
    "glCompileShader(fragment)\n",
    "if not glGetShaderiv(fragment, GL_COMPILE_STATUS):\n",
    "    error = glGetShaderInfoLog(fragment).decode()\n",
    "    print(error)\n",
    "    raise RuntimeError(\"Erro de compilacao do Fragment Shader\")\n",
    "\n",
    "glAttachShader(program, vertex)\n",
    "glAttachShader(program, fragment)"
   ]
  },
  {
   "cell_type": "markdown",
   "metadata": {},
   "source": [
    "### Linkagem e Preparação de Dados para a GPU"
   ]
  },
  {
   "cell_type": "markdown",
   "metadata": {},
   "source": [
    "Build do programa tornando ele default"
   ]
  },
  {
   "cell_type": "code",
   "execution_count": 5,
   "metadata": {},
   "outputs": [],
   "source": [
    "glLinkProgram(program)\n",
    "if not glGetProgramiv(program, GL_LINK_STATUS):\n",
    "    print(glGetProgramInfoLog(program))\n",
    "    raise RuntimeError('Linking error')\n",
    "    \n",
    "glUseProgram(program)"
   ]
  },
  {
   "cell_type": "markdown",
   "metadata": {},
   "source": [
    "Modelagem dos objetos em cena"
   ]
  },
  {
   "cell_type": "code",
   "execution_count": 6,
   "metadata": {},
   "outputs": [],
   "source": [
    "vertices = np.array([\n",
    "    # Cabeça\n",
    "    (0.5, 0.2, 0.0),   # 0 \n",
    "    (0.0, -0.8, 0.0),  # 1\n",
    "    (-0.5, 0.2, 0.0),  # 2\n",
    "\n",
    "    # Corpo\n",
    "    (0.5, -0.5, 0.0),  # 3\n",
    "    (-0.5, -0.5, 0.0), # 4\n",
    "    (0.3, -1.5, 0.0),  # 5\n",
    "    (-0.3, -1.5, 0.0), # 6\n",
    "    (0.3, -2.0, 0.0),  # 7\n",
    "    (-0.3, -2.0, 0.0), # 8\n",
    "\n",
    "    # Asas\n",
    "    (2.0, -0.6, 0.0),  # 9\n",
    "    (-2.0, -0.6, 0.0), # 10\n",
    "    (0.0, -1.5, 0.0),  # 11\n",
    "    (2.5, -2.0, 0.0),  # 12\n",
    "    (-2.5, -2.0, 0.0), # 13\n",
    "    (0.5, -0.6, 0.0),  # 14\n",
    "    (-0.5, -0.6, 0.0), # 15\n",
    "\n",
    "    # Rabo\n",
    "    (0.7, -2.8, 0.0),  # 16\n",
    "    (-0.7, -2.8, 0.0), # 17\n",
    "    \n",
    "], dtype=np.float32)\n",
    "\n",
    "indices = np.array([\n",
    "    # Cabeça\n",
    "    0, 1, 2,\n",
    "\n",
    "    # Corpo\n",
    "    3, 4, 5,\n",
    "    4, 5, 6,\n",
    "    5, 6, 7,\n",
    "    6, 7, 8,\n",
    "\n",
    "    # Asas\n",
    "    9, 10, 11,\n",
    "    12, 9, 14,\n",
    "    13, 10, 15,\n",
    "\n",
    "    # Rabo\n",
    "    7, 8, 16,\n",
    "    16, 17, 8,\n",
    "], dtype=np.uint32)\n"
   ]
  },
  {
   "cell_type": "markdown",
   "metadata": {},
   "source": [
    "Configuração VAO/VBO/EBO"
   ]
  },
  {
   "cell_type": "code",
   "execution_count": 7,
   "metadata": {},
   "outputs": [],
   "source": [
    "VAO = glGenVertexArrays(1)\n",
    "glBindVertexArray(VAO)\n",
    "\n",
    "VBO = glGenBuffers(1)\n",
    "glBindBuffer(GL_ARRAY_BUFFER, VBO)\n",
    "glBufferData(GL_ARRAY_BUFFER, vertices.nbytes, vertices, GL_STATIC_DRAW)\n",
    "\n",
    "EBO = glGenBuffers(1)\n",
    "glBindBuffer(GL_ELEMENT_ARRAY_BUFFER, EBO)\n",
    "glBufferData(GL_ELEMENT_ARRAY_BUFFER, indices.nbytes, indices, GL_STATIC_DRAW)"
   ]
  },
  {
   "cell_type": "markdown",
   "metadata": {},
   "source": [
    "Associando variáveis do programa GLSL (Vertex Shader) com nossos dados"
   ]
  },
  {
   "cell_type": "code",
   "execution_count": 8,
   "metadata": {},
   "outputs": [],
   "source": [
    "glVertexAttribPointer(0, 2, GL_FLOAT, False, 12, ctypes.c_void_p(0))\n",
    "glEnableVertexAttribArray(0)"
   ]
  },
  {
   "cell_type": "markdown",
   "metadata": {},
   "source": [
    "Definindo cores do projeto (mudar pra cá dps)"
   ]
  },
  {
   "cell_type": "markdown",
   "metadata": {},
   "source": [
    "### **Capturando eventos de teclado e modificando variáveis para a matriz de transformação**"
   ]
  },
  {
   "cell_type": "code",
   "execution_count": 9,
   "metadata": {},
   "outputs": [],
   "source": [
    "fator_escala = 0.5\n",
    "\n",
    "def key_event(window,key,scancode,action,mods):\n",
    "    global t_x, t_y, angulo, escala\n",
    "    \n",
    "    if key == 265: t_y += 0.01 #cima\n",
    "    if key == 264: t_y -= 0.01 #baixo\n",
    "    if key == 263: t_x -= 0.01 #esquerda\n",
    "    if key == 262: t_x += 0.01 #direita\n",
    "\n",
    "    if key == 65:  angulo += 0.05 # gira para a direita\n",
    "    if key == 83:  angulo -= 0.05 # gira para a esquerda\n",
    "\n",
    "    if key == 90: escala += 0.05 * fator_escala # aumenta escala \n",
    "    if key == 88: escala -= 0.05 * fator_escala # diminui escala\n",
    "\n",
    "    if key == 82: \n",
    "        t_x = 0\n",
    "        t_y = 0\n",
    "        angulo = 0\n",
    "        escala = 1\n",
    "\n",
    "\n",
    "    \n",
    "glfw.set_key_callback(window,key_event)"
   ]
  },
  {
   "cell_type": "markdown",
   "metadata": {},
   "source": [
    "### **Funções Principais da Janela**"
   ]
  },
  {
   "cell_type": "code",
   "execution_count": 10,
   "metadata": {},
   "outputs": [],
   "source": [
    "glfw.show_window(window)"
   ]
  },
  {
   "cell_type": "code",
   "execution_count": 11,
   "metadata": {},
   "outputs": [],
   "source": [
    "import math\n",
    "\n",
    "angulo = 0\n",
    "t_x = 0.0\n",
    "t_y = 0.0\n",
    "escala = 0.3\n",
    "\n",
    "\n",
    "def multiplica_matriz(a,b):\n",
    "    m_a = a.reshape(4,4)\n",
    "    m_b = b.reshape(4,4)\n",
    "    m_c = np.dot(m_a,m_b)\n",
    "    c = m_c.reshape(1,16)\n",
    "    return c\n",
    "\n",
    "# Matriz de projeção ortográfica (mapeia coordenadas 3D para a tela)\n",
    "glEnable(GL_BLEND);\n",
    "glBlendFunc(GL_SRC_ALPHA, GL_ONE_MINUS_SRC_ALPHA);\n",
    "glClearColor(0.53, 0.81, 0.92, 1.0)  # Cor de céu\n",
    "loc_color = glGetUniformLocation(program, \"color\")\n",
    "\n",
    "# Loop principal\n",
    "while not glfw.window_should_close(window):\n",
    "    glClear(GL_COLOR_BUFFER_BIT)\n",
    "\n",
    "    c = math.cos(angulo)\n",
    "    s = math.sin(angulo)\n",
    "\n",
    "    mat_translation = np.array([\n",
    "        1, 0, 0, t_x,\n",
    "        0, 1, 0, t_y,\n",
    "        0, 0, 1, 0,\n",
    "        0, 0, 0, 1\n",
    "    ], np.float32)\n",
    "\n",
    "    # Configura transformações\n",
    "    mat_rotation = np.array([       c,   -s,  0.0, 0.0, \n",
    "                                    s,    c,  0.0, 0.0, \n",
    "                                    0.0, 0.0, 1.0, 0.0, \n",
    "                                    0.0, 0.0, 0.0, 1.0], np.float32)\n",
    "    \n",
    "    mat_scale = np.array([\n",
    "        escala, 0, 0, 0,\n",
    "        0, escala, 0, 0,\n",
    "        0, 0, 1, 0,\n",
    "        0, 0, 0, 1\n",
    "    ], np.float32)\n",
    "\n",
    "    loc = glGetUniformLocation(program, \"mat_transformation\")\n",
    "    \n",
    "    mat_partial = multiplica_matriz(mat_rotation, mat_translation)\n",
    "    mat_definitive = multiplica_matriz(mat_partial, mat_scale)\n",
    "    glUniformMatrix4fv(loc, 1, GL_TRUE, mat_definitive)\n",
    "\n",
    "    # Desenha o pássaro\n",
    "    glUniform4f(loc_color, 0.0, 0.0, 0.0, 1.0) \n",
    "    glDrawElements(GL_TRIANGLES, len(indices), GL_UNSIGNED_INT, None)\n",
    "\n",
    "    # Descomente as duas linhas abaixo para conseguir ver as arestas\n",
    "    # glUniform4f(loc_color, 0.0, 0.0, 0.0, 1.0)  # Cor preta\n",
    "    # glPolygonMode(GL_FRONT_AND_BACK, GL_LINE)    # Modo wireframe\n",
    "    \n",
    "    glfw.swap_buffers(window)\n",
    "    glfw.poll_events()\n",
    "\n",
    "glfw.terminate()"
   ]
  }
 ],
 "metadata": {
  "kernelspec": {
   "display_name": "Python 3",
   "language": "python",
   "name": "python3"
  },
  "language_info": {
   "codemirror_mode": {
    "name": "ipython",
    "version": 3
   },
   "file_extension": ".py",
   "mimetype": "text/x-python",
   "name": "python",
   "nbconvert_exporter": "python",
   "pygments_lexer": "ipython3",
   "version": "3.11.9"
  }
 },
 "nbformat": 4,
 "nbformat_minor": 2
}
