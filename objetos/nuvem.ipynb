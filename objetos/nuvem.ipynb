{
 "cells": [
  {
   "cell_type": "markdown",
   "metadata": {},
   "source": [
    "### **Instalando e importando as bibliotecas necessárias**"
   ]
  },
  {
   "cell_type": "code",
   "execution_count": 277,
   "metadata": {},
   "outputs": [
    {
     "name": "stdout",
     "output_type": "stream",
     "text": [
      "Requirement already satisfied: PyOpenGL in c:\\users\\kasat\\appdata\\local\\packages\\pythonsoftwarefoundation.python.3.11_qbz5n2kfra8p0\\localcache\\local-packages\\python311\\site-packages (3.1.9)\n",
      "Note: you may need to restart the kernel to use updated packages.\n"
     ]
    },
    {
     "name": "stderr",
     "output_type": "stream",
     "text": [
      "\n",
      "[notice] A new release of pip is available: 24.3.1 -> 25.0.1\n",
      "[notice] To update, run: C:\\Users\\kasat\\AppData\\Local\\Microsoft\\WindowsApps\\PythonSoftwareFoundation.Python.3.11_qbz5n2kfra8p0\\python.exe -m pip install --upgrade pip\n"
     ]
    },
    {
     "name": "stdout",
     "output_type": "stream",
     "text": [
      "Requirement already satisfied: glfw in c:\\users\\kasat\\appdata\\local\\packages\\pythonsoftwarefoundation.python.3.11_qbz5n2kfra8p0\\localcache\\local-packages\\python311\\site-packages (2.8.0)\n",
      "Note: you may need to restart the kernel to use updated packages.\n"
     ]
    },
    {
     "name": "stderr",
     "output_type": "stream",
     "text": [
      "\n",
      "[notice] A new release of pip is available: 24.3.1 -> 25.0.1\n",
      "[notice] To update, run: C:\\Users\\kasat\\AppData\\Local\\Microsoft\\WindowsApps\\PythonSoftwareFoundation.Python.3.11_qbz5n2kfra8p0\\python.exe -m pip install --upgrade pip\n"
     ]
    },
    {
     "name": "stdout",
     "output_type": "stream",
     "text": [
      "Note: you may need to restart the kernel to use updated packages.Requirement already satisfied: pyglm in c:\\users\\kasat\\appdata\\local\\packages\\pythonsoftwarefoundation.python.3.11_qbz5n2kfra8p0\\localcache\\local-packages\\python311\\site-packages (2.8.0)\n",
      "\n"
     ]
    },
    {
     "name": "stderr",
     "output_type": "stream",
     "text": [
      "\n",
      "[notice] A new release of pip is available: 24.3.1 -> 25.0.1\n",
      "[notice] To update, run: C:\\Users\\kasat\\AppData\\Local\\Microsoft\\WindowsApps\\PythonSoftwareFoundation.Python.3.11_qbz5n2kfra8p0\\python.exe -m pip install --upgrade pip\n"
     ]
    }
   ],
   "source": [
    "%pip install PyOpenGL\n",
    "%pip install glfw\n",
    "%pip install pyglm"
   ]
  },
  {
   "cell_type": "code",
   "execution_count": 278,
   "metadata": {},
   "outputs": [],
   "source": [
    "import glfw\n",
    "from OpenGL.GL import *\n",
    "import OpenGL.GL.shaders\n",
    "import numpy as np\n",
    "import glm"
   ]
  },
  {
   "cell_type": "markdown",
   "metadata": {},
   "source": [
    "### **Inicializando a janela**"
   ]
  },
  {
   "cell_type": "code",
   "execution_count": 279,
   "metadata": {},
   "outputs": [],
   "source": [
    "glfw.init()\n",
    "glfw.window_hint(glfw.VISIBLE, glfw.FALSE);\n",
    "window = glfw.create_window(720, 600, \"Avião em voo\", None, None)\n",
    "\n",
    "if (window == None):\n",
    "    print(\"Failed to create GLFW window\")\n",
    "    glfwTerminate()\n",
    "    \n",
    "glfw.make_context_current(window)"
   ]
  },
  {
   "cell_type": "markdown",
   "metadata": {},
   "source": [
    "### **Shaders**\n",
    "Defininindo os programas Vertex e Fragment Shaders e requisitando slot para a GPU para eles. Após isso, associamos nosso código-fonte aos slots associados."
   ]
  },
  {
   "cell_type": "code",
   "execution_count": 280,
   "metadata": {},
   "outputs": [],
   "source": [
    "vertex_code = \"\"\"\n",
    "    #version 330 core\n",
    "    layout (location = 0) in vec3 position;\n",
    "    uniform mat4 mat_transformation;\n",
    "    \n",
    "    void main() {\n",
    "        gl_Position = mat_transformation * vec4(position, 1.0);\n",
    "    }\n",
    "\"\"\"\n",
    "\n",
    "fragment_code = \"\"\"\n",
    "    #version 330 core\n",
    "    uniform vec4 color;\n",
    "    out vec4 FragColor;\n",
    "    \n",
    "    void main() {\n",
    "        FragColor = color;\n",
    "    }\n",
    "\"\"\"\n",
    "\n",
    "program  = glCreateProgram()\n",
    "vertex   = glCreateShader(GL_VERTEX_SHADER)\n",
    "fragment = glCreateShader(GL_FRAGMENT_SHADER)\n",
    "\n",
    "glShaderSource(vertex, vertex_code)\n",
    "glShaderSource(fragment, fragment_code)"
   ]
  },
  {
   "cell_type": "markdown",
   "metadata": {},
   "source": [
    "Compilando nossos programas e associando ao programa principal"
   ]
  },
  {
   "cell_type": "code",
   "execution_count": 281,
   "metadata": {},
   "outputs": [],
   "source": [
    "glCompileShader(vertex)\n",
    "if not glGetShaderiv(vertex, GL_COMPILE_STATUS):\n",
    "    error = glGetShaderInfoLog(vertex).decode()\n",
    "    print(error)\n",
    "    raise RuntimeError(\"Erro de compilacao do Vertex Shader\")\n",
    "\n",
    "glCompileShader(fragment)\n",
    "if not glGetShaderiv(fragment, GL_COMPILE_STATUS):\n",
    "    error = glGetShaderInfoLog(fragment).decode()\n",
    "    print(error)\n",
    "    raise RuntimeError(\"Erro de compilacao do Fragment Shader\")\n",
    "\n",
    "glAttachShader(program, vertex)\n",
    "glAttachShader(program, fragment)"
   ]
  },
  {
   "cell_type": "markdown",
   "metadata": {},
   "source": [
    "### Linkagem e Preparação de Dados para a GPU"
   ]
  },
  {
   "cell_type": "markdown",
   "metadata": {},
   "source": [
    "Build do programa tornando ele default"
   ]
  },
  {
   "cell_type": "code",
   "execution_count": 282,
   "metadata": {},
   "outputs": [],
   "source": [
    "glLinkProgram(program)\n",
    "if not glGetProgramiv(program, GL_LINK_STATUS):\n",
    "    print(glGetProgramInfoLog(program))\n",
    "    raise RuntimeError('Linking error')\n",
    "    \n",
    "glUseProgram(program)"
   ]
  },
  {
   "cell_type": "markdown",
   "metadata": {},
   "source": [
    "Modelagem dos objetos em cena"
   ]
  },
  {
   "cell_type": "code",
   "execution_count": 283,
   "metadata": {},
   "outputs": [],
   "source": [
    "# Para gerar uma novem uma ideia foi gerar alguns polígonos irregulares e junta-los\n",
    "def geraPoligono3D(n_lados, tamanho_lados, espessura, deslocamento_z, rotacao):\n",
    "    pontos = []\n",
    "    offset_angulo = rotacao\n",
    "\n",
    "    # definindo pontos do polígono\n",
    "    for i in range(n_lados):\n",
    "        x = tamanho_lados[i] * np.cos(offset_angulo)\n",
    "        y = tamanho_lados[i] * np.sin(offset_angulo)\n",
    "        pontos.append([x, y, deslocamento_z])\n",
    "        offset_angulo += 2 * np.pi / n_lados\n",
    "\n",
    "    # como é um objeto 3D, replicamos os pontos para gerar uma espessura, com um diferente valor de z\n",
    "    copia_pontos = [[x, y, espessura + deslocamento_z] for x, y, _ in pontos]\n",
    "\n",
    "    # fazendo o mesmo prpcesso para os vértices agora\n",
    "    vertices = np.array(pontos + copia_pontos, dtype=np.float32)\n",
    "\n",
    "    indices = []\n",
    "    for i in range(n_lados):\n",
    "        prox = (i + 1) % n_lados\n",
    "        indices.extend([i, prox, n_lados + prox, n_lados + i])\n",
    "\n",
    "    indices = np.array(indices, dtype=np.uint32)\n",
    "\n",
    "    return vertices, indices\n",
    "\n",
    "NUM_POLIGONOS = 5 # quantidade de polígonos que formarão a nuvem\n",
    "poligonos_vertices = []\n",
    "poligonos_indices = []\n",
    "deslocamento_z = 0.0\n",
    "indice_offset = 0\n",
    "\n",
    "for _ in range(NUM_POLIGONOS):\n",
    "    n_lados = np.random.randint(12,20) # os polígonos podem variar entre 5 e 10 faces\n",
    "    tamanhos = np.random.uniform(1.5, 2.5, n_lados)\n",
    "    rotacao = np.random.uniform(0, 2 * np.pi)\n",
    "    vertices, indices = geraPoligono3D(n_lados, tamanhos, 0.5, deslocamento_z, rotacao)\n",
    "\n",
    "    indices = indices + indice_offset  # Ajusta os índices para a nova posição no array\n",
    "    poligonos_vertices.append(vertices)\n",
    "    poligonos_indices.append(indices)\n",
    "\n",
    "    indice_offset += len(vertices)  # Atualiza o deslocamento dos índices\n",
    "    deslocamento_z -= 0.3  # O próximo polígono ficará atrás do anterior\n",
    "\n",
    "# Converte para NumPy corretamente\n",
    "poligonos_vertices = np.vstack(poligonos_vertices)\n",
    "poligonos_indices = np.hstack(poligonos_indices)\n"
   ]
  },
  {
   "cell_type": "markdown",
   "metadata": {},
   "source": [
    "Configuração VAO/VBO/EBO"
   ]
  },
  {
   "cell_type": "code",
   "execution_count": 284,
   "metadata": {},
   "outputs": [],
   "source": [
    "VAO = glGenVertexArrays(1)\n",
    "glBindVertexArray(VAO)\n",
    "\n",
    "VBO = glGenBuffers(1)\n",
    "glBindBuffer(GL_ARRAY_BUFFER, VBO)\n",
    "glBufferData(GL_ARRAY_BUFFER, poligonos_vertices.nbytes, poligonos_vertices, GL_STATIC_DRAW)\n",
    "\n",
    "EBO = glGenBuffers(1)\n",
    "glBindBuffer(GL_ELEMENT_ARRAY_BUFFER, EBO)\n",
    "glBufferData(GL_ELEMENT_ARRAY_BUFFER, poligonos_indices.nbytes, poligonos_indices, GL_STATIC_DRAW)"
   ]
  },
  {
   "cell_type": "markdown",
   "metadata": {},
   "source": [
    "Associando variáveis do programa GLSL (Vertex Shader) com nossos dados"
   ]
  },
  {
   "cell_type": "code",
   "execution_count": 285,
   "metadata": {},
   "outputs": [],
   "source": [
    "glVertexAttribPointer(0, 3, GL_FLOAT, False, 12, ctypes.c_void_p(0))\n",
    "glEnableVertexAttribArray(0)"
   ]
  },
  {
   "cell_type": "markdown",
   "metadata": {},
   "source": [
    "Definindo cores do projeto (mudar pra cá dps)"
   ]
  },
  {
   "cell_type": "markdown",
   "metadata": {},
   "source": [
    "### **Capturando eventos de teclado e modificando variáveis para a matriz de transformação**"
   ]
  },
  {
   "cell_type": "code",
   "execution_count": 286,
   "metadata": {},
   "outputs": [],
   "source": [
    "fator_escala = 0.5\n",
    "\n",
    "def key_event(window,key,scancode,action,mods):\n",
    "    global t_x, t_y, angulo, escala\n",
    "    \n",
    "    if key == 265: t_y += 0.01 #cima\n",
    "    if key == 264: t_y -= 0.01 #baixo\n",
    "    if key == 263: t_x -= 0.01 #esquerda\n",
    "    if key == 262: t_x += 0.01 #direita\n",
    "\n",
    "    if key == 65:  angulo += 0.1 # gira para a direita\n",
    "    if key == 83:  angulo -= 0.1 # gira para a esquerda\n",
    "\n",
    "    if key == 90: escala += 0.1 * fator_escala # aumenta escala \n",
    "    if key == 88: escala -= 0.1 * fator_escala # diminui escala\n",
    "\n",
    "    if key == 82: \n",
    "        t_x = 0\n",
    "        t_y = 0\n",
    "        angulo = 0\n",
    "        escala = 1\n",
    "\n",
    "\n",
    "    \n",
    "glfw.set_key_callback(window,key_event)"
   ]
  },
  {
   "cell_type": "markdown",
   "metadata": {},
   "source": [
    "### **Funções Principais da Janela**"
   ]
  },
  {
   "cell_type": "code",
   "execution_count": 287,
   "metadata": {},
   "outputs": [],
   "source": [
    "glfw.show_window(window)"
   ]
  },
  {
   "cell_type": "code",
   "execution_count": 288,
   "metadata": {},
   "outputs": [],
   "source": [
    "import math\n",
    "\n",
    "angulo = 0\n",
    "t_x = 0\n",
    "t_y = 0\n",
    "escala = 1\n",
    "\n",
    "\n",
    "def multiplica_matriz(a,b):\n",
    "    m_a = a.reshape(4,4)\n",
    "    m_b = b.reshape(4,4)\n",
    "    m_c = np.dot(m_a,m_b)\n",
    "    c = m_c.reshape(1,16)\n",
    "    return c\n",
    "\n",
    "# Matriz de projeção ortográfica (mapeia coordenadas 3D para a tela)\n",
    "glEnable(GL_BLEND)\n",
    "glBlendFunc(GL_SRC_ALPHA, GL_ONE_MINUS_SRC_ALPHA)\n",
    "glEnable(GL_DEPTH_TEST)\n",
    "glClearColor(0.53, 0.81, 0.92, 1.0)  # Cor de céu\n",
    "\n",
    "# Matriz de projeção perspectiva\n",
    "width, height = glfw.get_window_size(window)\n",
    "proj = glm.perspective(glm.radians(60.0), width/height, 0.1, 100.0)\n",
    "\n",
    "# Posição da câmera\n",
    "view = glm.lookAt(\n",
    "    glm.vec3(2, 2, 2),  # Posição da câmera\n",
    "    glm.vec3(0, 0, 0),  # Ponto para onde olha\n",
    "    glm.vec3(0, 1, 0)   # Vetor \"para cima\"\n",
    ")\n",
    "\n",
    "# Enviamos para o shader\n",
    "loc_transform = glGetUniformLocation(program, \"mat_transformation\")\n",
    "loc_color = glGetUniformLocation(program, \"color\")\n",
    "\n",
    "\n",
    "# Loop principal\n",
    "while not glfw.window_should_close(window):\n",
    "    glClear(GL_COLOR_BUFFER_BIT | GL_DEPTH_BUFFER_BIT)\n",
    "\n",
    "    # Animação de rotação\n",
    "    angulo += 0.0001\n",
    "    model = glm.mat4(1.0)\n",
    "    model = glm.rotate(model, angulo, glm.vec3(0, 1, 0))  # Rotaciona em Y\n",
    "    \n",
    "    # Configura transformações\n",
    "    mat_model = glm.mat4(1.0)\n",
    "    mat_model = glm.translate(mat_model, glm.vec3(t_x, t_y, 0.0))\n",
    "    mat_model = glm.rotate(mat_model, angulo, glm.vec3(0.0, 0.0, 1.0))\n",
    "    mat_model = glm.scale(mat_model, glm.vec3(escala, escala, 1.0))\n",
    "    \n",
    "    # Matriz final\n",
    "    mvp = proj * view * model\n",
    "    \n",
    "    # Envia para o shader\n",
    "    glUniformMatrix4fv(loc_transform, 1, GL_FALSE, glm.value_ptr(mvp))\n",
    "    \n",
    "    # Desenha\n",
    "    glUniform4f(loc_color, 1.0, 1.0, 1.0, 0.75) \n",
    "    glDrawElements(GL_TRIANGLE_FAN, len(poligonos_indices), GL_UNSIGNED_INT, None)\n",
    "\n",
    "    # Descomente as duas linhas abaixo para conseguir ver as arestas\n",
    "    # glUniform4f(loc_color, 0.0, 0.0, 0.0, 1.0)  # Cor preta\n",
    "    # glPolygonMode(GL_FRONT_AND_BACK, GL_LINE)    # Modo wireframe\n",
    "    glDrawElements(GL_TRIANGLES, len(poligonos_indices), GL_UNSIGNED_INT, None)\n",
    "    glPolygonMode(GL_FRONT_AND_BACK, GL_FILL)    # Volta ao modo sólido\n",
    "    \n",
    "    glfw.swap_buffers(window)\n",
    "    glfw.poll_events()\n",
    "\n",
    "glfw.terminate()"
   ]
  }
 ],
 "metadata": {
  "kernelspec": {
   "display_name": "Python 3",
   "language": "python",
   "name": "python3"
  },
  "language_info": {
   "codemirror_mode": {
    "name": "ipython",
    "version": 3
   },
   "file_extension": ".py",
   "mimetype": "text/x-python",
   "name": "python",
   "nbconvert_exporter": "python",
   "pygments_lexer": "ipython3",
   "version": "3.11.9"
  }
 },
 "nbformat": 4,
 "nbformat_minor": 2
}
