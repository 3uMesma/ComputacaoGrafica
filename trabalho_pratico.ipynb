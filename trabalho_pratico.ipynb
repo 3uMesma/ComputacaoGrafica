{
 "cells": [
  {
   "cell_type": "markdown",
   "metadata": {},
   "source": [
    "### **Instalando e importando as bibliotecas necessárias**"
   ]
  },
  {
   "cell_type": "code",
   "execution_count": 397,
   "metadata": {},
   "outputs": [
    {
     "name": "stdout",
     "output_type": "stream",
     "text": [
      "Requirement already satisfied: PyOpenGL in c:\\users\\kasat\\appdata\\local\\packages\\pythonsoftwarefoundation.python.3.11_qbz5n2kfra8p0\\localcache\\local-packages\\python311\\site-packages (3.1.9)\n",
      "Note: you may need to restart the kernel to use updated packages.\n"
     ]
    },
    {
     "name": "stderr",
     "output_type": "stream",
     "text": [
      "\n",
      "[notice] A new release of pip is available: 24.3.1 -> 25.0.1\n",
      "[notice] To update, run: C:\\Users\\kasat\\AppData\\Local\\Microsoft\\WindowsApps\\PythonSoftwareFoundation.Python.3.11_qbz5n2kfra8p0\\python.exe -m pip install --upgrade pip\n"
     ]
    },
    {
     "name": "stdout",
     "output_type": "stream",
     "text": [
      "Requirement already satisfied: glfw in c:\\users\\kasat\\appdata\\local\\packages\\pythonsoftwarefoundation.python.3.11_qbz5n2kfra8p0\\localcache\\local-packages\\python311\\site-packages (2.8.0)\n",
      "Note: you may need to restart the kernel to use updated packages.\n"
     ]
    },
    {
     "name": "stderr",
     "output_type": "stream",
     "text": [
      "\n",
      "[notice] A new release of pip is available: 24.3.1 -> 25.0.1\n",
      "[notice] To update, run: C:\\Users\\kasat\\AppData\\Local\\Microsoft\\WindowsApps\\PythonSoftwareFoundation.Python.3.11_qbz5n2kfra8p0\\python.exe -m pip install --upgrade pip\n"
     ]
    },
    {
     "name": "stdout",
     "output_type": "stream",
     "text": [
      "Requirement already satisfied: pyglm in c:\\users\\kasat\\appdata\\local\\packages\\pythonsoftwarefoundation.python.3.11_qbz5n2kfra8p0\\localcache\\local-packages\\python311\\site-packages (2.8.0)\n",
      "Note: you may need to restart the kernel to use updated packages.\n"
     ]
    },
    {
     "name": "stderr",
     "output_type": "stream",
     "text": [
      "\n",
      "[notice] A new release of pip is available: 24.3.1 -> 25.0.1\n",
      "[notice] To update, run: C:\\Users\\kasat\\AppData\\Local\\Microsoft\\WindowsApps\\PythonSoftwareFoundation.Python.3.11_qbz5n2kfra8p0\\python.exe -m pip install --upgrade pip\n"
     ]
    }
   ],
   "source": [
    "%pip install PyOpenGL\n",
    "%pip install glfw\n",
    "%pip install pyglm"
   ]
  },
  {
   "cell_type": "code",
   "execution_count": 398,
   "metadata": {},
   "outputs": [],
   "source": [
    "import glfw\n",
    "from OpenGL.GL import *\n",
    "import OpenGL.GL.shaders\n",
    "import numpy as np\n",
    "import glm"
   ]
  },
  {
   "cell_type": "markdown",
   "metadata": {},
   "source": [
    "### **Inicializando a janela**"
   ]
  },
  {
   "cell_type": "code",
   "execution_count": 399,
   "metadata": {},
   "outputs": [],
   "source": [
    "glfw.init()\n",
    "glfw.window_hint(glfw.VISIBLE, glfw.FALSE);\n",
    "window = glfw.create_window(720, 600, \"Avião em voo\", None, None)\n",
    "\n",
    "if (window == None):\n",
    "    print(\"Failed to create GLFW window\")\n",
    "    glfwTerminate()\n",
    "    \n",
    "glfw.make_context_current(window)"
   ]
  },
  {
   "cell_type": "markdown",
   "metadata": {},
   "source": [
    "### **Shaders**\n",
    "Defininindo os programas Vertex e Fragment Shaders e requisitando slot para a GPU para eles. Após isso, associamos nosso código-fonte aos slots associados."
   ]
  },
  {
   "cell_type": "code",
   "execution_count": 400,
   "metadata": {},
   "outputs": [],
   "source": [
    "vertex_code = \"\"\"\n",
    "    #version 330 core\n",
    "    layout (location = 0) in vec3 position;\n",
    "    uniform mat4 mat_transformation;\n",
    "    \n",
    "    void main() {\n",
    "        gl_Position = mat_transformation * vec4(position, 1.0);\n",
    "    }\n",
    "\"\"\"\n",
    "\n",
    "fragment_code = \"\"\"\n",
    "    #version 330 core\n",
    "    uniform vec4 color;\n",
    "    out vec4 FragColor;\n",
    "    \n",
    "    void main() {\n",
    "        FragColor = color;\n",
    "    }\n",
    "\"\"\"\n",
    "\n",
    "program  = glCreateProgram()\n",
    "vertex   = glCreateShader(GL_VERTEX_SHADER)\n",
    "fragment = glCreateShader(GL_FRAGMENT_SHADER)\n",
    "\n",
    "glShaderSource(vertex, vertex_code)\n",
    "glShaderSource(fragment, fragment_code)"
   ]
  },
  {
   "cell_type": "markdown",
   "metadata": {},
   "source": [
    "Compilando nossos programas e associando ao programa principal"
   ]
  },
  {
   "cell_type": "code",
   "execution_count": 401,
   "metadata": {},
   "outputs": [],
   "source": [
    "glCompileShader(vertex)\n",
    "if not glGetShaderiv(vertex, GL_COMPILE_STATUS):\n",
    "    error = glGetShaderInfoLog(vertex).decode()\n",
    "    print(error)\n",
    "    raise RuntimeError(\"Erro de compilacao do Vertex Shader\")\n",
    "\n",
    "glCompileShader(fragment)\n",
    "if not glGetShaderiv(fragment, GL_COMPILE_STATUS):\n",
    "    error = glGetShaderInfoLog(fragment).decode()\n",
    "    print(error)\n",
    "    raise RuntimeError(\"Erro de compilacao do Fragment Shader\")\n",
    "\n",
    "glAttachShader(program, vertex)\n",
    "glAttachShader(program, fragment)"
   ]
  },
  {
   "cell_type": "markdown",
   "metadata": {},
   "source": [
    "### Linkagem e Preparação de Dados para a GPU"
   ]
  },
  {
   "cell_type": "markdown",
   "metadata": {},
   "source": [
    "Build do programa tornando ele default"
   ]
  },
  {
   "cell_type": "code",
   "execution_count": 402,
   "metadata": {},
   "outputs": [],
   "source": [
    "glLinkProgram(program)\n",
    "if not glGetProgramiv(program, GL_LINK_STATUS):\n",
    "    print(glGetProgramInfoLog(program))\n",
    "    raise RuntimeError('Linking error')\n",
    "    \n",
    "glUseProgram(program)"
   ]
  },
  {
   "cell_type": "markdown",
   "metadata": {},
   "source": [
    "Modelagem dos objetos em cena"
   ]
  },
  {
   "cell_type": "code",
   "execution_count": 403,
   "metadata": {},
   "outputs": [],
   "source": [
    "vertices = np.array([\n",
    "    # Fuselagem (retangular)\n",
    "    ( 0.75,  0.2,  0.2),  # 0\n",
    "    (-0.75,  0.2,  0.2),  # 1\n",
    "    (-0.75, -0.2,  0.2),  # 2 \n",
    "    ( 0.75, -0.2,  0.2),  # 3\n",
    "    ( 0.75,  0.2, -0.2),  # 4\n",
    "    (-0.75,  0.2, -0.2),  # 5\n",
    "    (-0.75, -0.2, -0.2),  # 6\n",
    "    ( 0.75, -0.2, -0.2),  # 7\n",
    "\n",
    "    # Asa direita\n",
    "    (-0.25,  0.025, 1.2),  # Vértice ponta (meio da face) 8\n",
    "    (-0.25,  0.025, 0.2),  # Base superior esquerda 9\n",
    "    (0.25, 0.025, 0.2),  # Base inferior esquerda 10\n",
    "    (-0.25,  -0.025, 1.2),  # Vértice ponta (fundo do prisma) 11\n",
    "    (-0.25,  -0.025, 0.2),  # Base superior esquerda (fundo) 12\n",
    "    (0.25, -0.025, 0.2),   # Base inferior esquerda (fundo) 13\n",
    "\n",
    "    # Asa esquerda\n",
    "    (-0.25,  0.025, -1.2),  # 14\n",
    "    (-0.25,  0.025, -0.2),  # 15\n",
    "    (0.25, 0.025, -0.2),  #16\n",
    "    (-0.25,  -0.025, -1.2),  #17\n",
    "    (-0.25,  -0.025, -0.2),  #18\n",
    "    (0.25, -0.025, -0.2),   #19\n",
    "\n",
    "    # Nariz\n",
    "    ( 0.95,  0.1,  0.1), # 20 \n",
    "    ( 0.95,  -0.1,  0.1), # 21\n",
    "    ( 0.95,  0.1,  -0.1), # 22\n",
    "    ( 0.95,  -0.1,  -0.1), # 23 (parte branca do nariz até aqui)\n",
    "    ( 1.2, 0.0, 0.0), # 24 (pontinha vermelha do nariz)\n",
    "\n",
    "    # Traseira do avião\n",
    "    ( -1.2, 0.2, 0.0), # 25\n",
    "\n",
    "    # Barbatana do avião\n",
    "    ( -0.8, 0.2, 0.025), # 26\n",
    "    ( -0.8, 0.2, -0.025), # 27\n",
    "    ( -1.0, 0.2, 0.025), # 28\n",
    "    ( -1.0, 0.2, -0.025), # 29\n",
    "    ( -1.0, 0.6, 0.025), # 30\n",
    "    ( -1.0, 0.6, -0.025), # 31\n",
    "    ( -0.95, 0.6, 0.025), # 32\n",
    "    ( -0.95, 0.6, -0.025), # 33\n",
    "\n",
    "    # Estabilizador Direito\n",
    "    (-0.95,  0.025, 0.4),  # 34\n",
    "    (-0.95,  0.025, 0.05),  # 35\n",
    "    (-0.80, 0.025, 0.15),  # 36\n",
    "    (-0.95,  -0.025, 0.4),  # 37\n",
    "    (-0.95,  -0.025, 0.05),  # 38\n",
    "    (-0.80, -0.025, 0.15),   # 39\n",
    "\n",
    "    # Estabilizador Esquerdo\n",
    "    (-0.95,  0.025, -0.4),  # 40\n",
    "    (-0.95,  0.025, -0.05),  # 41\n",
    "    (-0.80, 0.025, -0.15),  # 42\n",
    "    (-0.95,  -0.025, -0.4),  # 43\n",
    "    (-0.95,  -0.025, -0.05),  # 44\n",
    "    (-0.80, -0.025, -0.15),   # 45\n",
    "\n",
    "], dtype=np.float32)\n",
    "\n",
    "import numpy as np\n",
    "\n",
    "indices = np.array([\n",
    "    # Fuselagem (36 índices)\n",
    "    0, 1, 2,  0, 2, 3,\n",
    "    4, 6, 5,  4, 7, 6,\n",
    "    0, 4, 5,  0, 5, 1,\n",
    "    2, 6, 7,  2, 7, 3,\n",
    "    0, 3, 7,  0, 7, 4,\n",
    "    1, 5, 6,  1, 6, 2,\n",
    "\n",
    "    # Asa Direita (24 índices)\n",
    "    8, 9, 10,\n",
    "    11, 13, 12,\n",
    "    8, 9, 12,  8, 12, 11,\n",
    "    8, 10, 13,  8, 13, 11,\n",
    "    9, 10, 13,  9, 13, 12,\n",
    "\n",
    "    # Asa Direita (24 índices)\n",
    "    14, 15, 16,\n",
    "    17, 19, 18,\n",
    "    14, 15, 18,  14, 18, 17,\n",
    "    14, 16, 19,  14, 19, 17,\n",
    "    15, 16, 19,  15, 19, 18,\n",
    "\n",
    "    # Nariz parte branca (24 índices)\n",
    "    20, 21, 22,\n",
    "    21, 22, 23,\n",
    "    0, 3, 20,  3, 20, 21,\n",
    "    0, 4, 20,  4, 20, 22,\n",
    "    4, 7, 22,  7, 22, 23,\n",
    "    3, 7, 23,  3, 21, 23,\n",
    "\n",
    "    # Nariz parte vermelha (12 índices)\n",
    "    20, 22, 24,\n",
    "    20, 21, 24,\n",
    "    21, 23, 24,\n",
    "    22, 23, 24,\n",
    "\n",
    "    # Traseira do avião (12 índices)\n",
    "    1, 2, 25,\n",
    "    2, 5, 25,\n",
    "    5, 6, 25,\n",
    "    6, 1, 25,\n",
    "\n",
    "    # Barbatana (30 índices)\n",
    "    26, 28, 30,  26, 30, 32,\n",
    "    27, 29, 31,  27, 31, 33,\n",
    "    26, 27, 32,  27, 32, 33,\n",
    "    31, 32, 33,  30, 31, 32,\n",
    "    28, 29, 30,  29, 30, 31,\n",
    "\n",
    "    # Estabilizador Direito (24 índices)\n",
    "    34, 35, 36,\n",
    "    37, 39, 38,\n",
    "    34, 35, 38,  34, 38, 37,\n",
    "    34, 36, 39,  34, 39, 37,\n",
    "    35, 36, 39,  35, 39, 38,\n",
    "\n",
    "    # Estabilizador Esquerdo (24 índices)\n",
    "    40, 41, 42,\n",
    "    43, 45, 44,\n",
    "    40, 41, 44,  40, 44, 43,\n",
    "    40, 42, 45,  40, 45, 43,\n",
    "    41, 42, 45,  41, 39, 44,\n",
    "\n",
    "], dtype=np.uint32)\n"
   ]
  },
  {
   "cell_type": "markdown",
   "metadata": {},
   "source": [
    "Configuração VAO/VBO/EBO"
   ]
  },
  {
   "cell_type": "code",
   "execution_count": 404,
   "metadata": {},
   "outputs": [],
   "source": [
    "VAO = glGenVertexArrays(1)\n",
    "glBindVertexArray(VAO)\n",
    "\n",
    "VBO = glGenBuffers(1)\n",
    "glBindBuffer(GL_ARRAY_BUFFER, VBO)\n",
    "glBufferData(GL_ARRAY_BUFFER, vertices.nbytes, vertices, GL_STATIC_DRAW)\n",
    "\n",
    "EBO = glGenBuffers(1)\n",
    "glBindBuffer(GL_ELEMENT_ARRAY_BUFFER, EBO)\n",
    "glBufferData(GL_ELEMENT_ARRAY_BUFFER, indices.nbytes, indices, GL_STATIC_DRAW)"
   ]
  },
  {
   "cell_type": "markdown",
   "metadata": {},
   "source": [
    "Associando variáveis do programa GLSL (Vertex Shader) com nossos dados"
   ]
  },
  {
   "cell_type": "code",
   "execution_count": 405,
   "metadata": {},
   "outputs": [],
   "source": [
    "glVertexAttribPointer(0, 3, GL_FLOAT, False, 12, ctypes.c_void_p(0))\n",
    "glEnableVertexAttribArray(0)"
   ]
  },
  {
   "cell_type": "markdown",
   "metadata": {},
   "source": [
    "Definindo cores do projeto (mudar pra cá dps)"
   ]
  },
  {
   "cell_type": "markdown",
   "metadata": {},
   "source": [
    "### **Capturando eventos de teclado e modificando variáveis para a matriz de transformação**"
   ]
  },
  {
   "cell_type": "code",
   "execution_count": 406,
   "metadata": {},
   "outputs": [],
   "source": [
    "fator_escala = 0.5\n",
    "\n",
    "def key_event(window,key,scancode,action,mods):\n",
    "    global t_x, t_y, angulo, escala\n",
    "    \n",
    "    if key == 265: t_y += 0.01 #cima\n",
    "    if key == 264: t_y -= 0.01 #baixo\n",
    "    if key == 263: t_x -= 0.01 #esquerda\n",
    "    if key == 262: t_x += 0.01 #direita\n",
    "\n",
    "    if key == 65:  angulo += 0.1 # gira para a direita\n",
    "    if key == 83:  angulo -= 0.1 # gira para a esquerda\n",
    "\n",
    "    if key == 90: escala += 0.1 * fator_escala # aumenta escala \n",
    "    if key == 88: escala -= 0.1 * fator_escala # diminui escala\n",
    "\n",
    "    if key == 82: \n",
    "        t_x = 0\n",
    "        t_y = 0\n",
    "        angulo = 0\n",
    "        escala = 1\n",
    "\n",
    "\n",
    "    \n",
    "glfw.set_key_callback(window,key_event)"
   ]
  },
  {
   "cell_type": "markdown",
   "metadata": {},
   "source": [
    "### **Funções Principais da Janela**"
   ]
  },
  {
   "cell_type": "code",
   "execution_count": 407,
   "metadata": {},
   "outputs": [],
   "source": [
    "glfw.show_window(window)"
   ]
  },
  {
   "cell_type": "code",
   "execution_count": 408,
   "metadata": {},
   "outputs": [],
   "source": [
    "import math\n",
    "\n",
    "angulo = 0\n",
    "t_x = 0\n",
    "t_y = 0\n",
    "escala = 1\n",
    "\n",
    "\n",
    "def multiplica_matriz(a,b):\n",
    "    m_a = a.reshape(4,4)\n",
    "    m_b = b.reshape(4,4)\n",
    "    m_c = np.dot(m_a,m_b)\n",
    "    c = m_c.reshape(1,16)\n",
    "    return c\n",
    "\n",
    "# Matriz de projeção ortográfica (mapeia coordenadas 3D para a tela)\n",
    "glEnable(GL_DEPTH_TEST)\n",
    "glClearColor(0.53, 0.81, 0.92, 1.0)  # Cor de céu\n",
    "\n",
    "# Matriz de projeção perspectiva\n",
    "width, height = glfw.get_window_size(window)\n",
    "proj = glm.perspective(glm.radians(60.0), width/height, 0.1, 100.0)\n",
    "\n",
    "# Posição da câmera\n",
    "view = glm.lookAt(\n",
    "    glm.vec3(2, 2, 2),  # Posição da câmera\n",
    "    glm.vec3(0, 0, 0),  # Ponto para onde olha\n",
    "    glm.vec3(0, 1, 0)   # Vetor \"para cima\"\n",
    ")\n",
    "\n",
    "# Enviamos para o shader\n",
    "loc_transform = glGetUniformLocation(program, \"mat_transformation\")\n",
    "loc_color = glGetUniformLocation(program, \"color\")\n",
    "\n",
    "\n",
    "# Loop principal\n",
    "while not glfw.window_should_close(window):\n",
    "    glClear(GL_COLOR_BUFFER_BIT | GL_DEPTH_BUFFER_BIT)\n",
    "\n",
    "    # Animação de rotação\n",
    "    angulo += 0.0001\n",
    "    model = glm.mat4(1.0)\n",
    "    model = glm.rotate(model, angulo, glm.vec3(0, 1, 0))  # Rotaciona em Y\n",
    "    \n",
    "    # Configura transformações\n",
    "    mat_model = glm.mat4(1.0)\n",
    "    mat_model = glm.translate(mat_model, glm.vec3(t_x, t_y, 0.0))\n",
    "    mat_model = glm.rotate(mat_model, angulo, glm.vec3(0.0, 0.0, 1.0))\n",
    "    mat_model = glm.scale(mat_model, glm.vec3(escala, escala, 1.0))\n",
    "    \n",
    "    # Matriz final\n",
    "    mvp = proj * view * model\n",
    "    \n",
    "    # Envia para o shader\n",
    "    glUniformMatrix4fv(loc_transform, 1, GL_FALSE, glm.value_ptr(mvp))\n",
    "    \n",
    "    # Desenha as partes do avião com cores diferentes\n",
    "    # Corpo principal (branco)\n",
    "    glUniform4f(loc_color, 1.0, 1.0, 1.0, 1.0)\n",
    "    glDrawElements(GL_TRIANGLES, 36, GL_UNSIGNED_INT, None)\n",
    "\n",
    "    # Asas (vermelhas)\n",
    "    glUniform4f(loc_color, 1.0, 0.0, 0.0, 1.0)\n",
    "    glDrawElements(GL_TRIANGLES, 48, GL_UNSIGNED_INT, ctypes.c_void_p(36 * 4))\n",
    "\n",
    "    # Nariz\n",
    "    glUniform4f(loc_color, 1.0, 1.0, 1.0, 1.0) # parte branca\n",
    "    glDrawElements(GL_TRIANGLES, 30, GL_UNSIGNED_INT, ctypes.c_void_p(84 * 4))\n",
    "    glUniform4f(loc_color, 1.0, 0.0, 0.0, 1.0) # parte vermelha\n",
    "    glDrawElements(GL_TRIANGLES, 12, GL_UNSIGNED_INT, ctypes.c_void_p(114 * 4))\n",
    "\n",
    "    # Traseira\n",
    "    glUniform4f(loc_color, 1.0, 1.0, 1.0, 1.0) \n",
    "    glDrawElements(GL_TRIANGLES, 12, GL_UNSIGNED_INT, ctypes.c_void_p(126 * 4))\n",
    "\n",
    "    # Barbatana\n",
    "    glUniform4f(loc_color, 1.0, 0.0, 0.0, 1.0) \n",
    "    glDrawElements(GL_TRIANGLES, 30, GL_UNSIGNED_INT, ctypes.c_void_p(138 * 4))\n",
    "\n",
    "    # Estabilizador direito\n",
    "    glUniform4f(loc_color, 1.0, 0.0, 0.0, 1.0) \n",
    "    glDrawElements(GL_TRIANGLES, 48, GL_UNSIGNED_INT, ctypes.c_void_p(168 * 4))\n",
    "\n",
    "    # Descomente as duas linhas abaixo para conseguir ver as arestas\n",
    "    glUniform4f(loc_color, 0.0, 0.0, 0.0, 1.0)  # Cor preta\n",
    "    glPolygonMode(GL_FRONT_AND_BACK, GL_LINE)    # Modo wireframe\n",
    "    glDrawElements(GL_TRIANGLES, len(indices), GL_UNSIGNED_INT, None)\n",
    "    glPolygonMode(GL_FRONT_AND_BACK, GL_FILL)    # Volta ao modo sólido\n",
    "    \n",
    "    glfw.swap_buffers(window)\n",
    "    glfw.poll_events()\n",
    "\n",
    "glfw.terminate()"
   ]
  }
 ],
 "metadata": {
  "kernelspec": {
   "display_name": "Python 3",
   "language": "python",
   "name": "python3"
  },
  "language_info": {
   "codemirror_mode": {
    "name": "ipython",
    "version": 3
   },
   "file_extension": ".py",
   "mimetype": "text/x-python",
   "name": "python",
   "nbconvert_exporter": "python",
   "pygments_lexer": "ipython3",
   "version": "3.11.9"
  }
 },
 "nbformat": 4,
 "nbformat_minor": 2
}
